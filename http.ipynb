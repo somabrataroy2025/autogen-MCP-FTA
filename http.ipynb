{
 "cells": [
  {
   "cell_type": "markdown",
   "id": "974f1126",
   "metadata": {},
   "source": [
    "## HttpTool"
   ]
  },
  {
   "cell_type": "code",
   "execution_count": null,
   "id": "e8ccb6fa",
   "metadata": {},
   "outputs": [],
   "source": [
    "import asyncio\n",
    "from common import LLM\n",
    "from autogen_ext.tools.http import HttpTool\n",
    "from autogen_agentchat.agents import AssistantAgent\n",
    "from autogen_agentchat.messages import TextMessage\n",
    "from autogen_core import CancellationToken\n",
    "from autogen_ext.models.openai import AzureOpenAIChatCompletionClient"
   ]
  },
  {
   "cell_type": "code",
   "execution_count": null,
   "id": "9e7a1852",
   "metadata": {},
   "outputs": [],
   "source": [
    "input_schema = {\n",
    "    \"type\": \"object\",\n",
    "    \"properties\": {\n",
    "        \"email\": {\"type\": \"string\", \"description\": \"provide email of user\"},\n",
    "    },\n",
    "    \"required\": [\"email\"],\n",
    "}\n",
    "http_tool = HttpTool(\n",
    "    name = \"resume\",\n",
    "    description=\"call resume fastAPI\",\n",
    "    host='127.0.0.1',\n",
    "    path='/user/{email}',\n",
    "    port=8000,\n",
    "    method='GET',\n",
    "    json_schema=input_schema\n",
    ")"
   ]
  },
  {
   "cell_type": "code",
   "execution_count": 3,
   "id": "a07314f0",
   "metadata": {},
   "outputs": [
    {
     "name": "stdout",
     "output_type": "stream",
     "text": [
      "id='11480966-4387-48bd-b5d4-ba0da43182ae' source='callAPI' models_usage=None metadata={} created_at=datetime.datetime(2025, 10, 9, 7, 45, 42, 611390, tzinfo=datetime.timezone.utc) content='[[\"Sandra Fisher\",7957166739,\"3927 Stefanie Extensions, Lake Stephen, MA 18920\"]]' type='ToolCallSummaryMessage' tool_calls=[FunctionCall(id='call_Q4W5novkvTAQ0ilgIEXPjaWT', arguments='{\"email\":\"james59@example.org\"}', name='resume')] results=[FunctionExecutionResult(content='[[\"Sandra Fisher\",7957166739,\"3927 Stefanie Extensions, Lake Stephen, MA 18920\"]]', name='resume', call_id='call_Q4W5novkvTAQ0ilgIEXPjaWT', is_error=False)]\n"
     ]
    }
   ],
   "source": [
    "\n",
    "assistant = AssistantAgent(\n",
    "    name=\"callAPI\",\n",
    "    model_client= LLM().llm_client,\n",
    "    tools=[http_tool]\n",
    ")\n",
    "response = await assistant.on_messages(\n",
    "    [TextMessage(content=\"what is the address and not the embedding of the user : james59@example.org\",source=\"user\")],\n",
    "    cancellation_token=CancellationToken()\n",
    ")\n",
    "\n",
    "print(response.chat_message)"
   ]
  },
  {
   "cell_type": "markdown",
   "id": "e10ef293",
   "metadata": {},
   "source": []
  }
 ],
 "metadata": {
  "kernelspec": {
   "display_name": ".agentenv",
   "language": "python",
   "name": "python3"
  },
  "language_info": {
   "codemirror_mode": {
    "name": "ipython",
    "version": 3
   },
   "file_extension": ".py",
   "mimetype": "text/x-python",
   "name": "python",
   "nbconvert_exporter": "python",
   "pygments_lexer": "ipython3",
   "version": "3.13.7"
  }
 },
 "nbformat": 4,
 "nbformat_minor": 5
}
