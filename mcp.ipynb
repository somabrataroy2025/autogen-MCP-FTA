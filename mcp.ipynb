{
 "cells": [
  {
   "cell_type": "markdown",
   "id": "eb728c13",
   "metadata": {},
   "source": [
    "## MCP Autogen"
   ]
  },
  {
   "cell_type": "code",
   "execution_count": 1,
   "id": "6f34aae8",
   "metadata": {},
   "outputs": [],
   "source": [
    "import asyncio\n",
    "from common import LLM,MCPActions\n",
    "from autogen_ext.tools.mcp import SseMcpToolAdapter, SseServerParams\n",
    "from autogen_agentchat.agents import AssistantAgent\n",
    "from autogen_agentchat.ui import Console\n",
    "from autogen_core import CancellationToken\n",
    "from autogen_agentchat.messages import TextMessage"
   ]
  },
  {
   "cell_type": "code",
   "execution_count": 2,
   "id": "db535dbc",
   "metadata": {},
   "outputs": [],
   "source": [
    "server_params = SseServerParams(\n",
    "        url=\"http://localhost:8000/mcp\",\n",
    "        timeout=30,  # Connection timeout in seconds\n",
    "    )"
   ]
  },
  {
   "cell_type": "markdown",
   "id": "dde6922f",
   "metadata": {},
   "source": [
    "## add individual MCP tool manually"
   ]
  },
  {
   "cell_type": "code",
   "execution_count": 4,
   "id": "b673ab41",
   "metadata": {},
   "outputs": [],
   "source": [
    "adapter = await SseMcpToolAdapter.from_server_params(server_params, \"get_stat_agewise\")\n",
    "adapter1 = await SseMcpToolAdapter.from_server_params(server_params, \"get_countries\")\n",
    "\n",
    "agent = AssistantAgent(\n",
    "        name=\"extractor\",\n",
    "        model_client=LLM().llm_client,\n",
    "        tools=[adapter,adapter1],\n",
    "        system_message=\"You are a helpful data extractor agent.\",\n",
    "    )\n"
   ]
  },
  {
   "cell_type": "markdown",
   "id": "35750c30",
   "metadata": {},
   "source": [
    "## Discover tools present in MCP server"
   ]
  },
  {
   "cell_type": "code",
   "execution_count": null,
   "id": "7dd6be50",
   "metadata": {},
   "outputs": [
    {
     "name": "stdout",
     "output_type": "stream",
     "text": [
      "<autogen_ext.tools.mcp._sse.SseMcpToolAdapter object at 0x00000259D9DB56A0>\n",
      "<autogen_ext.tools.mcp._sse.SseMcpToolAdapter object at 0x00000259D9D611D0>\n",
      "<autogen_ext.tools.mcp._sse.SseMcpToolAdapter object at 0x00000259D9D63ED0>\n"
     ]
    }
   ],
   "source": [
    "\n",
    "from autogen_ext.tools.mcp import create_mcp_server_session\n",
    "async with create_mcp_server_session(server_params) as session:\n",
    "    await session.initialize()\n",
    "    tools_response = await session.list_tools()\n",
    "    for t in tools_response.tools:\n",
    "        adpt = await SseMcpToolAdapter.from_server_params(server_params, t.name)\n",
    "        print(t.name)\n",
    "    \n"
   ]
  },
  {
   "cell_type": "markdown",
   "id": "d4876d12",
   "metadata": {},
   "source": [
    "## load all MCP tools from an MCP server"
   ]
  },
  {
   "cell_type": "code",
   "execution_count": 6,
   "id": "f1762338",
   "metadata": {},
   "outputs": [],
   "source": [
    "from autogen_ext.tools.mcp import create_mcp_server_session\n",
    "adpts = []\n",
    "async with create_mcp_server_session(server_params) as session:\n",
    "    await session.initialize()\n",
    "    tools_response = await session.list_tools()\n",
    "    for t in tools_response.tools:\n",
    "        adpt = await SseMcpToolAdapter.from_server_params(server_params, t.name)\n",
    "        adpts.append(adpt)\n",
    "\n",
    "agent = AssistantAgent(\n",
    "        name=\"extractor\",\n",
    "        model_client=LLM().llm_client,\n",
    "        tools=adpts,\n",
    "        system_message=\"You are a helpful data extractor agent.\",\n",
    "    )\n",
    "    "
   ]
  },
  {
   "cell_type": "markdown",
   "id": "0877005b",
   "metadata": {},
   "source": [
    "## load specific MCP tool from env "
   ]
  },
  {
   "cell_type": "code",
   "execution_count": null,
   "id": "ead38a39",
   "metadata": {},
   "outputs": [],
   "source": [
    "adpts = []\n",
    "actions = MCPActions().get_mcp_actions()\n",
    "\n",
    "for action in actions:\n",
    "    adpt = await SseMcpToolAdapter.from_server_params(server_params, action)\n",
    "    adpts.append(adpt)\n",
    "\n",
    "agent = AssistantAgent(\n",
    "        name=\"extractor\",\n",
    "        model_client=LLM().llm_client,\n",
    "        tools=adpts,\n",
    "        system_message=\"\"\"\n",
    "        You are a extractor agent who will call the MCP tool only.\n",
    "        #steps\n",
    "        # Call the MCP Tool with Parameter given by user. Identify the parameter and pass this to the api to find the output.\n",
    "        Example 1:\n",
    "        If user asks for how many person from Country: Canda fly through Airport : Delhi\n",
    "        Call : /data/airport?country=Canada&airport=Delhi\n",
    "\n",
    "        Example 2:\n",
    "        If user asks how many person from Country: Canada cam betwwen age 10 and 30\n",
    "        call : /agewise?country=Canada&age_from=10&age_to=30\n",
    "\n",
    "        #output format\n",
    "        Example 1:\n",
    "        If the response code of the Stool is 200 then provide a response\n",
    "\n",
    "        Example 2:\n",
    "        If The response code of MCP tool is 204 then out message : 'No records found'\n",
    "        \"\"\",\n",
    "    )\n",
    "    "
   ]
  },
  {
   "cell_type": "code",
   "execution_count": null,
   "id": "e88ea255",
   "metadata": {},
   "outputs": [
    {
     "name": "stdout",
     "output_type": "stream",
     "text": [
      "1503 travellers came from Czech between the age of 45 to 54.\n"
     ]
    }
   ],
   "source": [
    "response = await agent.on_messages(\n",
    "    [TextMessage(content=\"How many person visited from Canada via Delhi airport\",source=\"user\")],\n",
    "    cancellation_token=CancellationToken()\n",
    ")\n",
    "\n",
    "print(response.chat_message.content)"
   ]
  }
 ],
 "metadata": {
  "kernelspec": {
   "display_name": ".agentenv",
   "language": "python",
   "name": "python3"
  },
  "language_info": {
   "codemirror_mode": {
    "name": "ipython",
    "version": 3
   },
   "file_extension": ".py",
   "mimetype": "text/x-python",
   "name": "python",
   "nbconvert_exporter": "python",
   "pygments_lexer": "ipython3",
   "version": "3.13.7"
  }
 },
 "nbformat": 4,
 "nbformat_minor": 5
}
